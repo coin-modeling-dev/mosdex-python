{
 "cells": [
  {
   "metadata": {
    "collapsed": true,
    "ExecuteTime": {
     "end_time": "2024-09-18T21:17:48.028275Z",
     "start_time": "2024-09-18T21:17:47.873047Z"
    }
   },
   "cell_type": "code",
   "source": [
    "import pprint\n",
    "from jsonschema.validators import Draft7Validator\n",
    "import json\n",
    "\n",
    "\"\"\"\n",
    "Open a Mosdex file and validate it against the schema\n",
    "\"\"\"\n",
    "\n",
    "MOSDEX_SCHEMA_FILE = \"MOSDEXSchemaV2-1.json\"\n",
    "MOSDEX_FILE = \"sailco_2-1.json\"\n",
    "\n",
    "with open(MOSDEX_SCHEMA_FILE, \"r\") as f:\n",
    "    schema = json.load(f)\n",
    "validator = Draft7Validator(schema)\n",
    "\n",
    "with open(MOSDEX_FILE, \"r\") as f:\n",
    "    mosdex = json.load(f)\n",
    "\n",
    "if not validator.is_valid(mosdex):\n",
    "    print(f\"File {MOSDEX_FILE} is not a valid Mosdex file.\")\n",
    "    pp = pprint.PrettyPrinter(indent=4)\n",
    "    for error in sorted(validator.iter_errors(mosdex), key=str):\n",
    "        print()\n",
    "        pp.pprint(error.message)\n",
    "else:\n",
    "    print(f\"File {MOSDEX_FILE} is a valid instance of schema {MOSDEX_SCHEMA_FILE}.\")\n"
   ],
   "id": "initial_id",
   "outputs": [
    {
     "name": "stdout",
     "output_type": "stream",
     "text": [
      "File sailco_2-1.json is a valid instance of schema MOSDEXSchemaV2-1.json.\n"
     ]
    }
   ],
   "execution_count": 1
  },
  {
   "metadata": {
    "ExecuteTime": {
     "end_time": "2024-09-18T21:17:55.614620Z",
     "start_time": "2024-09-18T21:17:55.610478Z"
    }
   },
   "cell_type": "code",
   "source": [
    "\"\"\"\n",
    "Print some features of the MOSDEX_FILE\n",
    "\"\"\"\n",
    "\n",
    "print(f\"The syntax of {MOSDEX_FILE} is {mosdex['SYNTAX']}\")\n",
    "for module in mosdex['MODULES']:\n",
    "    print(f\"\\nModule {module['NAME']} is a {module['KIND']}\")\n",
    "    "
   ],
   "id": "ea72a0c163a61afa",
   "outputs": [
    {
     "name": "stdout",
     "output_type": "stream",
     "text": [
      "The syntax of sailco_2-1.json is MOSDEX/MOSDEX v2-0/MOSDEXSchemaV2-0.json\n",
      "\n",
      "Module sailco is a MODEL\n"
     ]
    }
   ],
   "execution_count": 2
  },
  {
   "metadata": {
    "ExecuteTime": {
     "end_time": "2024-09-18T21:17:58.495335Z",
     "start_time": "2024-09-18T21:17:58.489161Z"
    }
   },
   "cell_type": "code",
   "source": [
    "# Get reference to a module that has KIND == MODEL\n",
    "model = {}\n",
    "for module in mosdex['MODULES']:\n",
    "    if module['KIND'] == 'MODEL':\n",
    "        model = module\n",
    "        break\n",
    "\n",
    "print(f\"Got handle to MODEL: {model['NAME']}\")\n",
    "print(f\"The sections of the model are {list(model.keys())}\")\n",
    "print(f\"\\tNAME: {model['NAME']}\")\n",
    "print(f\"\\tCLASS: {model['CLASS']}\")\n",
    "print(f\"\\tKIND: {model['KIND']}\")\n",
    "print(f\"\\tTABLES: there are {len(model['TABLES'])} tables:\")\n",
    "for table in model['TABLES']:\n",
    "    print(f\"\\t\\t{table['NAME']:10s} \\t class/kind: {table['CLASS']}/{table['KIND']}\")"
   ],
   "id": "10e6f6ec9601a356",
   "outputs": [
    {
     "name": "stdout",
     "output_type": "stream",
     "text": [
      "Got handle to MODEL: sailco\n",
      "The sections of the model are ['NAME', 'CLASS', 'KIND', 'HEADING', 'TABLES']\n",
      "\tNAME: sailco\n",
      "\tCLASS: MODULE\n",
      "\tKIND: MODEL\n",
      "\tTABLES: there are 13 tables:\n",
      "\t\tdemands    \t class/kind: DATA/INPUT\n",
      "\t\tparameters \t class/kind: DATA/INPUT\n",
      "\t\tregular    \t class/kind: VARIABLE/CONTINUOUS\n",
      "\t\textra      \t class/kind: VARIABLE/CONTINUOUS\n",
      "\t\tinventory  \t class/kind: VARIABLE/CONTINUOUS\n",
      "\t\tcost       \t class/kind: VARIABLE/CONTINUOUS\n",
      "\t\ttotalCost  \t class/kind: VARIABLE/CONTINUOUS\n",
      "\t\tctCapacity \t class/kind: CONSTRAINT/LINEAR\n",
      "\t\tctBoat     \t class/kind: CONSTRAINT/LINEAR\n",
      "\t\tctBoatMatrix \t class/kind: MATRIX/LINEAR\n",
      "\t\tctCost     \t class/kind: CONSTRAINT/LINEAR\n",
      "\t\tctCostMatrix \t class/kind: MATRIX/LINEAR\n",
      "\t\tproduction \t class/kind: DATA/OUTPUT\n"
     ]
    }
   ],
   "execution_count": 3
  },
  {
   "metadata": {
    "ExecuteTime": {
     "end_time": "2024-09-18T21:18:01.577391Z",
     "start_time": "2024-09-18T21:18:00.937722Z"
    }
   },
   "cell_type": "code",
   "source": [
    "\"\"\"\n",
    "Initialize the database engine\n",
    "\"\"\"\n",
    "from sqlalchemy import create_engine, Integer, String, Double, ForeignKey\n",
    "\n",
    "engine = create_engine('sqlite:///:memory:')\n",
    "\n",
    "from sqlalchemy.orm import declarative_base, mapped_column\n",
    "\n",
    "Base = declarative_base()\n",
    "\n",
    "# Declare each table\n",
    "for table_ in model['TABLES']:\n",
    "    table_name = table_['NAME']\n",
    "    table_class = table_['CLASS']\n",
    "    table_kind = table_['KIND']\n",
    "    table_schema = table_['SCHEMA']\n",
    "    \n",
    "    # Dictionary for database info\n",
    "    db_table: dict = {} \n",
    "    \n",
    "    # Class name for rows\n",
    "    db_table['class_name'] = table_['CLASS'] + '_' + model['NAME'] + '_' + table_['NAME']\n",
    "    \n",
    "    # Load the table_attr dictionary\n",
    "    db_table['attr'] = { '__tablename__': table_name,\n",
    "                      'id': mapped_column(Integer, primary_key=True)}\n",
    "    \n",
    "    # Apply the SCHEMA to the table columns\n",
    "    for name, kind in zip(table_schema['NAME'], table_schema['KIND']):\n",
    "        \n",
    "        # Column type\n",
    "        if kind == 'INTEGER':\n",
    "            type_col = Integer\n",
    "        elif kind == 'DOUBLE' or kind == 'DOUBLE_FUNCTION':\n",
    "            type_col = Double\n",
    "        elif kind == 'STRING':\n",
    "            type_col = String\n",
    "        else:\n",
    "            print(f\"Error, type {kind} is not supported\")\n",
    "            break\n",
    "        \n",
    "        # Add the column to the table_attr dictionary\n",
    "        # - set primary_key flag \n",
    "        # - set Foreign Key relationship \n",
    "        if 'KEYS' in table_schema and name in table_schema['KEYS']:\n",
    "            # Primary Key\n",
    "            db_table['attr'][name] = mapped_column(type_col, primary_key=True)\n",
    "        if 'FOREIGN_KEYS' in table_schema and name in table_schema['FOREIGN_KEYS']:\n",
    "            # Foreign Key\n",
    "            f_key = table_schema['FOREIGN_KEYS'][name]\n",
    "            db_table['attr'][name] = mapped_column(type_col, ForeignKey(f_key))\n",
    "        else:\n",
    "            db_table['attr'][name] = mapped_column(type_col)\n",
    "    \n",
    "    # Declarative instantiation of the table     \n",
    "    db_table['instance'] = type(db_table['class_name'], (Base,), db_table['attr'])\n",
    "    \n",
    "    # Add the db_table dictionary to the TABLE dict\n",
    "    table_['db_table'] = db_table\n",
    "    \n",
    "    \n",
    "Base.metadata.create_all(engine)\n",
    "        \n",
    "print(f\"Database tables created\")\n",
    "for table in Base.metadata.tables.keys():\n",
    "    print(f\"\\t{table}\")\n",
    "    print(f\"\\t\\t{Base.metadata.tables[table].columns.keys()}\")\n",
    "    "
   ],
   "id": "f5a11efcd596e822",
   "outputs": [
    {
     "name": "stdout",
     "output_type": "stream",
     "text": [
      "Database tables created\n",
      "\tdemands\n",
      "\t\t['id', 'period', 'ancestor', 'demand']\n",
      "\tparameters\n",
      "\t\t['id', 'regularCost', 'extraCost', 'capacity', 'initialInventory', 'inventoryCost']\n",
      "\tregular\n",
      "\t\t['id', 'name', 'period', 'colName', 'lowerBound', 'upperBound', 'primalValue']\n",
      "\textra\n",
      "\t\t['id', 'name', 'period', 'colName', 'lowerBound', 'upperBound', 'primalValue']\n",
      "\tinventory\n",
      "\t\t['id', 'name', 'period', 'colName', 'lowerBound', 'upperBound', 'primalValue']\n",
      "\tcost\n",
      "\t\t['id', 'name', 'period', 'colName', 'lowerBound', 'upperBound', 'primalValue']\n",
      "\ttotalCost\n",
      "\t\t['id', 'colName', 'lowerBound', 'upperBound', 'primalValue']\n",
      "\tctCapacity\n",
      "\t\t['id', 'name', 'period', 'rowName', 'lowerBound', 'upperBound', 'dualValue']\n",
      "\tctBoat\n",
      "\t\t['id', 'name', 'period', 'rowName', 'sense', 'RHS', 'dualValue']\n",
      "\tctBoatMatrix\n",
      "\t\t['id', 'period', 'rowName', 'regularName', 'regularCoefficient', 'extraName', 'extraCoefficient', 'inventoryName', 'inventoryCoefficient', 'laggedInventoryName', 'laggedInventoryCoefficient']\n",
      "\tctCost\n",
      "\t\t['id', 'name', 'period', 'rowName', 'sense', 'RHS', 'dualValue']\n",
      "\tctCostMatrix\n",
      "\t\t['id', 'period', 'rowName', 'regularName', 'regularCoefficient', 'extraName', 'extraCoefficient', 'inventoryName', 'inventoryCoefficient', 'costName', 'costCoefficient', 'laggedCostName', 'laggedCostCoefficient']\n",
      "\tproduction\n",
      "\t\t['id', 'period', 'regular', 'extra', 'inventory', 'marginalCapacityValue']\n"
     ]
    }
   ],
   "execution_count": 4
  },
  {
   "metadata": {
    "ExecuteTime": {
     "end_time": "2024-09-18T21:18:05.183672Z",
     "start_time": "2024-09-18T21:18:04.265384Z"
    }
   },
   "cell_type": "code",
   "source": [
    "from sqlalchemy import text, Table\n",
    "from sqlalchemy.orm import Session\n",
    "from tabulate import tabulate\n",
    "\n",
    "\"\"\"\n",
    "Load the INPUT data\n",
    "\"\"\"\n",
    "import pandas as pd\n",
    "import numpy as np\n",
    "\n",
    "for table_ in model['TABLES']:\n",
    "    if table_['KIND'] == 'INPUT':\n",
    "        if \"INSTANCE\" in table_ and table_['CLASS'] == \"DATA\":\n",
    "            # Get column names \n",
    "            col_names = table_['SCHEMA']['NAME']\n",
    "            \n",
    "            # Create a dataframe from the INSTANCE arrays\n",
    "            data_df = pd.DataFrame(np.vstack(table_['INSTANCE']), columns=col_names)\n",
    "            print(\"\\n>>DATAFRAME<< \")\n",
    "            print(data_df.head())\n",
    "    \n",
    "            # Push the dataframe to the table\n",
    "            with Session(engine) as session, session.begin():\n",
    "                data_df.to_sql(name=table_['NAME'], con=session.connection(),\n",
    "                                       if_exists='append', index=False)\n",
    "                session.flush()\n",
    "                stmt = \"select * from \" + table_['NAME']\n",
    "                result = session.execute(text(stmt))\n",
    "                \n",
    "                print(\"\\n>>TABLE<<\")\n",
    "                t = Table(table_['NAME'], Base.metadata, autoload=True, autoload_with=engine)\n",
    "                print(tabulate(result, headers=t.columns.keys(), tablefmt=\"fancy_grid\"))\n",
    "        else:\n",
    "            # Load in another way\n",
    "            pass\n",
    "    else:\n",
    "        # Not INPUT \n",
    "        pass\n"
   ],
   "id": "493cd0e48a463ce3",
   "outputs": [
    {
     "name": "stdout",
     "output_type": "stream",
     "text": [
      "\n",
      ">>DATAFRAME<< \n",
      "   period  ancestor  demand\n",
      "0     1.0       0.0    40.0\n",
      "1     2.0       1.0    60.0\n",
      "2     3.0       2.0    75.0\n",
      "3     4.0       3.0    25.0\n",
      "\n",
      ">>TABLE<<\n",
      "╒══════╤══════════╤════════════╤══════════╕\n",
      "│   id │   period │   ancestor │   demand │\n",
      "╞══════╪══════════╪════════════╪══════════╡\n",
      "│    1 │        1 │          0 │       40 │\n",
      "├──────┼──────────┼────────────┼──────────┤\n",
      "│    2 │        2 │          1 │       60 │\n",
      "├──────┼──────────┼────────────┼──────────┤\n",
      "│    3 │        3 │          2 │       75 │\n",
      "├──────┼──────────┼────────────┼──────────┤\n",
      "│    4 │        4 │          3 │       25 │\n",
      "╘══════╧══════════╧════════════╧══════════╛\n",
      "\n",
      ">>DATAFRAME<< \n",
      "   regularCost  extraCost  capacity  initialInventory  inventoryCost\n",
      "0        400.0      450.0      40.0              10.0           20.0\n",
      "\n",
      ">>TABLE<<\n",
      "╒══════╤═══════════════╤═════════════╤════════════╤════════════════════╤═════════════════╕\n",
      "│   id │   regularCost │   extraCost │   capacity │   initialInventory │   inventoryCost │\n",
      "╞══════╪═══════════════╪═════════════╪════════════╪════════════════════╪═════════════════╡\n",
      "│    1 │           400 │         450 │         40 │                 10 │              20 │\n",
      "╘══════╧═══════════════╧═════════════╧════════════╧════════════════════╧═════════════════╛\n"
     ]
    }
   ],
   "execution_count": 5
  },
  {
   "metadata": {
    "ExecuteTime": {
     "end_time": "2024-09-18T21:18:08.045344Z",
     "start_time": "2024-09-18T21:18:08.037480Z"
    }
   },
   "cell_type": "code",
   "source": [
    "from sqlalchemy import Table\n",
    "\n",
    "\"\"\"\n",
    "Process a VARIABLE\n",
    "\"\"\"\n",
    "\n",
    "# demands DATA table\n",
    "demands = Table('demands', Base.metadata, autoload_with=engine)\n",
    "\n",
    "# regular VARIABLE table\n",
    "regular = Table('regular', Base.metadata, autoload_with=engine)\n",
    "\n",
    "# Append rows to 'regular' \n",
    "with Session(engine) as session, session.begin():\n",
    "    stmt = text(\"INSERT INTO regular (name, period, colName, lowerBound, upperBound, primalValue) \"\n",
    "                \"SELECT \"\n",
    "                \"'regular', \"\n",
    "                \"period , \"\n",
    "                \"CONCAT('regular','_', period), \"\n",
    "                \"0.0 , \"\n",
    "                \"'Infinity', \"\n",
    "                \"NULL \"\n",
    "                \"FROM demands\")\n",
    "    result = session.execute(stmt)\n",
    "    session.flush()\n",
    "    \n",
    "    # Print table\n",
    "    rows = session.execute(regular.select())\n",
    "    print(tabulate(rows, headers=regular.columns.keys(), tablefmt=\"fancy_grid\"))\n",
    "        \n",
    "\n"
   ],
   "id": "641cd9cf9d13bf84",
   "outputs": [
    {
     "name": "stdout",
     "output_type": "stream",
     "text": [
      "╒══════╤═════════╤══════════╤═══════════╤══════════════╤══════════════╤═══════════════╕\n",
      "│   id │ name    │   period │ colName   │   lowerBound │ upperBound   │ primalValue   │\n",
      "╞══════╪═════════╪══════════╪═══════════╪══════════════╪══════════════╪═══════════════╡\n",
      "│    1 │ regular │        1 │ regular_1 │            0 │ Infinity     │               │\n",
      "├──────┼─────────┼──────────┼───────────┼──────────────┼──────────────┼───────────────┤\n",
      "│    2 │ regular │        2 │ regular_2 │            0 │ Infinity     │               │\n",
      "├──────┼─────────┼──────────┼───────────┼──────────────┼──────────────┼───────────────┤\n",
      "│    3 │ regular │        3 │ regular_3 │            0 │ Infinity     │               │\n",
      "├──────┼─────────┼──────────┼───────────┼──────────────┼──────────────┼───────────────┤\n",
      "│    4 │ regular │        4 │ regular_4 │            0 │ Infinity     │               │\n",
      "╘══════╧═════════╧══════════╧═══════════╧══════════════╧══════════════╧═══════════════╛\n"
     ]
    }
   ],
   "execution_count": 6
  },
  {
   "metadata": {
    "ExecuteTime": {
     "end_time": "2024-09-18T21:18:10.860732Z",
     "start_time": "2024-09-18T21:18:10.852294Z"
    }
   },
   "cell_type": "code",
   "source": [
    "\"\"\"\n",
    "Process a CONSTRAINT\n",
    "\"\"\"\n",
    "\n",
    "# Get ctBoat table\n",
    "ctBoat = Table('ctBoat', Base.metadata, autoload_with=engine)\n",
    "\n",
    "# Generate ctBoat table with initialInventory as RHS in period 1\n",
    "with Session(engine) as session, session.begin():\n",
    "    stmt = text(\"INSERT INTO ctBoat (name, period, rowName, sense, RHS, dualValue )\"\n",
    "                \"SELECT \"\n",
    "                \"'ctBoat' , \"\n",
    "                \"period , \"\n",
    "                \"CONCAT('ctBoat','_', period), \"\n",
    "                \"'==' AS sense,\"\n",
    "                \"CASE \"\n",
    "                \"WHEN period > 1 THEN 0 \"\n",
    "                \"WHEN period ==1 THEN initialInventory \"\n",
    "                \"END AS RHS, \"\n",
    "                \"NULL AS dualValue \"\n",
    "                \"FROM demands, parameters\")\n",
    "    session.execute(stmt)\n",
    "    session.flush()\n",
    "    # Print table\n",
    "    rows = session.execute(ctBoat.select())\n",
    "    print(tabulate(rows, headers=ctBoat.columns.keys(), tablefmt=\"fancy_grid\"))\n",
    "    "
   ],
   "id": "89bd7dfc2cd57a6c",
   "outputs": [
    {
     "name": "stdout",
     "output_type": "stream",
     "text": [
      "╒══════╤════════╤══════════╤═══════════╤═════════╤═══════╤═════════════╕\n",
      "│   id │ name   │   period │ rowName   │ sense   │   RHS │ dualValue   │\n",
      "╞══════╪════════╪══════════╪═══════════╪═════════╪═══════╪═════════════╡\n",
      "│    1 │ ctBoat │        1 │ ctBoat_1  │ ==      │    10 │             │\n",
      "├──────┼────────┼──────────┼───────────┼─────────┼───────┼─────────────┤\n",
      "│    2 │ ctBoat │        2 │ ctBoat_2  │ ==      │     0 │             │\n",
      "├──────┼────────┼──────────┼───────────┼─────────┼───────┼─────────────┤\n",
      "│    3 │ ctBoat │        3 │ ctBoat_3  │ ==      │     0 │             │\n",
      "├──────┼────────┼──────────┼───────────┼─────────┼───────┼─────────────┤\n",
      "│    4 │ ctBoat │        4 │ ctBoat_4  │ ==      │     0 │             │\n",
      "╘══════╧════════╧══════════╧═══════════╧═════════╧═══════╧═════════════╛\n"
     ]
    }
   ],
   "execution_count": 7
  },
  {
   "metadata": {
    "ExecuteTime": {
     "end_time": "2024-09-18T21:18:14.004130Z",
     "start_time": "2024-09-18T21:18:13.995473Z"
    }
   },
   "cell_type": "code",
   "source": [
    "\"\"\"\n",
    "Process a MATRIX\n",
    "\"\"\"\n",
    "\n",
    "# Matrix table for ctBoat\n",
    "\n",
    "ctBoatMatrix = Table('ctBoatMatrix', Base.metadata, autoload_with=engine)\n",
    "\n",
    "# Generate matrix for Inventory Balance equation\n",
    "with Session(engine) as session, session.begin():\n",
    "    stmt = text(\n",
    "        \"INSERT INTO ctBoatMatrix (period, rowName, regularName, regularCoefficient,\"\n",
    "        \"extraName, extraCoefficient, inventoryName, inventoryCoefficient, laggedInventoryName, laggedInventoryCoefficient) \"\n",
    "        \"SELECT \"\n",
    "                \"period , \"\n",
    "                \"CONCAT('ctBoat', '_', period) , \"\n",
    "                \"CONCAT('regular','_', period), \"\n",
    "                \"1.0 , \"\n",
    "                \n",
    "                \"CONCAT('extra','_', period) , \"\n",
    "                \"1.0, \"\n",
    "                \n",
    "                \"CONCAT('inventory','_', period) , \"\n",
    "                \"-1.0 , \"\n",
    "                \n",
    "                \"CASE \"\n",
    "                \"WHEN period > 1 THEN CONCAT('inventory','_', ancestor) \"\n",
    "                \"ELSE NULL END , \"\n",
    "                \"CASE \"\n",
    "                \"WHEN period > 1 THEN 1.0 \"\n",
    "                \"ELSE NULL END  \"\n",
    "                \n",
    "                \"FROM demands\")\n",
    "    session.execute(stmt)\n",
    "    session.flush()\n",
    "    # Print table\n",
    "    rows = session.execute(ctBoatMatrix.select())\n",
    "    print(tabulate(rows, headers=ctBoatMatrix.columns.keys(), tablefmt=\"fancy_grid\"))\n",
    "    "
   ],
   "id": "c9e3fd270bc4e2ac",
   "outputs": [
    {
     "name": "stdout",
     "output_type": "stream",
     "text": [
      "╒══════╤══════════╤═══════════╤═══════════════╤══════════════════════╤═════════════╤════════════════════╤═════════════════╤════════════════════════╤═══════════════════════╤══════════════════════════════╕\n",
      "│   id │   period │ rowName   │ regularName   │   regularCoefficient │ extraName   │   extraCoefficient │ inventoryName   │   inventoryCoefficient │ laggedInventoryName   │   laggedInventoryCoefficient │\n",
      "╞══════╪══════════╪═══════════╪═══════════════╪══════════════════════╪═════════════╪════════════════════╪═════════════════╪════════════════════════╪═══════════════════════╪══════════════════════════════╡\n",
      "│    1 │        1 │ ctBoat_1  │ regular_1     │                    1 │ extra_1     │                  1 │ inventory_1     │                     -1 │                       │                              │\n",
      "├──────┼──────────┼───────────┼───────────────┼──────────────────────┼─────────────┼────────────────────┼─────────────────┼────────────────────────┼───────────────────────┼──────────────────────────────┤\n",
      "│    2 │        2 │ ctBoat_2  │ regular_2     │                    1 │ extra_2     │                  1 │ inventory_2     │                     -1 │ inventory_1           │                            1 │\n",
      "├──────┼──────────┼───────────┼───────────────┼──────────────────────┼─────────────┼────────────────────┼─────────────────┼────────────────────────┼───────────────────────┼──────────────────────────────┤\n",
      "│    3 │        3 │ ctBoat_3  │ regular_3     │                    1 │ extra_3     │                  1 │ inventory_3     │                     -1 │ inventory_2           │                            1 │\n",
      "├──────┼──────────┼───────────┼───────────────┼──────────────────────┼─────────────┼────────────────────┼─────────────────┼────────────────────────┼───────────────────────┼──────────────────────────────┤\n",
      "│    4 │        4 │ ctBoat_4  │ regular_4     │                    1 │ extra_4     │                  1 │ inventory_4     │                     -1 │ inventory_3           │                            1 │\n",
      "╘══════╧══════════╧═══════════╧═══════════════╧══════════════════════╧═════════════╧════════════════════╧═════════════════╧════════════════════════╧═══════════════════════╧══════════════════════════════╛\n"
     ]
    }
   ],
   "execution_count": 8
  },
  {
   "metadata": {
    "ExecuteTime": {
     "end_time": "2024-09-18T20:58:44.415049Z",
     "start_time": "2024-09-18T20:58:44.411537Z"
    }
   },
   "cell_type": "code",
   "source": "",
   "id": "e7769872b1f48dbe",
   "outputs": [],
   "execution_count": null
  }
 ],
 "metadata": {
  "kernelspec": {
   "display_name": "Python 3",
   "language": "python",
   "name": "python3"
  },
  "language_info": {
   "codemirror_mode": {
    "name": "ipython",
    "version": 2
   },
   "file_extension": ".py",
   "mimetype": "text/x-python",
   "name": "python",
   "nbconvert_exporter": "python",
   "pygments_lexer": "ipython2",
   "version": "2.7.6"
  }
 },
 "nbformat": 4,
 "nbformat_minor": 5
}
